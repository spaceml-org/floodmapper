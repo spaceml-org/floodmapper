{
 "cells": [
  {
   "cell_type": "markdown",
   "id": "08c3ec6c",
   "metadata": {},
   "source": [
    "# Generate a dual-level sampling grid for the world\n",
    "\n",
    "This notebook generates the grid of square 'patches' used for sampling areas of interest. Each patch has a unique name based on the 'slippygrid' standard used by Google Maps and is considered immutable in the FloodMapper system. The geometry of the patches are stored in the 'world_grid' table of the FloodMapper database and **should not be changed**.\n",
    "\n",
    "The FloodMapper grid has several layers:\n",
    "\n",
    "1. A grid of small patches that are used to download and process satellite data.\n",
    "1. One (or more) grids of larger patches that are used to perform spatial merges before vectorising the results.\n",
    "\n",
    "For each layer, the slippygrid zoom level is expanded in three steps as a function of latitude to compensate for area distortion of the Web Mercator projection.\n",
    "\n",
    "Note: the schema of the database is available in the file [floodmapper-db-schema.sql](floodmapper-db-schema.sql)."
   ]
  },
  {
   "cell_type": "code",
   "execution_count": null,
   "id": "7fa8f474",
   "metadata": {},
   "outputs": [],
   "source": [
    "# Necessary imports\n",
    "import os\n",
    "os.environ['USE_PYGEOS'] = '0'\n",
    "import itertools\n",
    "from shapely.geometry import box\n",
    "import warnings\n",
    "import numpy as np\n",
    "import math as math\n",
    "import pandas as pd\n",
    "import geopandas as gpd\n",
    "from shapely.geometry import Polygon\n",
    "import mercantile\n",
    "import folium\n",
    "import matplotlib.pyplot as plt\n",
    "from tqdm import tqdm\n",
    "\n",
    "from dotenv import load_dotenv\n",
    "from db_utils import DB\n",
    "from grid_utils import custom_feature\n",
    "from grid_utils import gen_zone_patches\n",
    "from ml4floods.data import utils\n",
    "\n",
    "# Set bucket will not be requester pays\n",
    "utils.REQUESTER_PAYS_DEFAULT = False"
   ]
  },
  {
   "cell_type": "markdown",
   "id": "b283fbfd",
   "metadata": {},
   "source": [
    "## Load environment and project details\n",
    "\n",
    "As with the other notebooks, we load credentials and project details from a hidden ```.env``` file."
   ]
  },
  {
   "cell_type": "code",
   "execution_count": null,
   "id": "9e90e757",
   "metadata": {},
   "outputs": [],
   "source": [
    "# Load environment variables (including path to credentials) from '.env' file\n",
    "env_file_path = \"../.env\"\n",
    "\n",
    "# Uncomment for alternative version for Windows (r\"\" indicates raw string)\n",
    "#env_file_path = r\"C:/Users/User/floodmapper/.env\"\n",
    "\n",
    "assert load_dotenv(dotenv_path=env_file_path) == True, \"[ERR] Failed to load environment!\"\n",
    "assert \"GOOGLE_APPLICATION_CREDENTIALS\" in os.environ, \"[ERR] Missing $GOOGLE_APPLICATION_CREDENTIAL!\"\n",
    "assert \"GS_USER_PROJECT\" in os.environ, \"[ERR] Missing $GS_USER_PROJECT!\"\n",
    "key_file_path = os.environ[\"GOOGLE_APPLICATION_CREDENTIALS\"]\n",
    "assert os.path.exists(key_file_path), f\"[ERR] Google credential key file does not exist: \\n{key_file_path} \"\n",
    "assert \"ML4FLOODS_BASE_DIR\" in os.environ, \"[ERR] Missing $ML4FLOODS_BASE_DIR!\"\n",
    "base_path = os.environ[\"ML4FLOODS_BASE_DIR\"]\n",
    "assert os.path.exists(base_path), f\"[ERR] Base path does not exist: \\n{base_path} \"\n",
    "bucket_name = os.environ[\"BUCKET_URI\"]\n",
    "assert bucket_name is not None and bucket_name != \"\", f\"Bucket name not defined {bucket_name}\"\n",
    "print(\"[INFO] Successfully loaded FloodMapper environment.\")"
   ]
  },
  {
   "cell_type": "code",
   "execution_count": null,
   "id": "3aec1ad1",
   "metadata": {},
   "outputs": [],
   "source": [
    "# Connect to the database (point to the .env file for credentials)\n",
    "db_conn = DB(env_file_path)"
   ]
  },
  {
   "cell_type": "markdown",
   "id": "e0c48cc4",
   "metadata": {},
   "source": [
    "## User-supplied grid parameters"
   ]
  },
  {
   "cell_type": "code",
   "execution_count": null,
   "id": "915d0054",
   "metadata": {},
   "outputs": [],
   "source": [
    "# Longitude bounds of total area\n",
    "# For this test, a strip encompassing Australia\n",
    "bounds_w = 112.900000000000\n",
    "bounds_e = 153.63872785102905\n",
    "\n",
    "# Smallest Zoom level [10]\n",
    "max_zoom_level = 10"
   ]
  },
  {
   "cell_type": "markdown",
   "id": "beb346bb",
   "metadata": {},
   "source": [
    "## Generate the zone parameters\n",
    "\n",
    "Each dataframe containes two 'p_level' zooms."
   ]
  },
  {
   "cell_type": "code",
   "execution_count": null,
   "id": "45afd0a2",
   "metadata": {},
   "outputs": [],
   "source": [
    "# Generate a dataframe for each geographic zone\n",
    "Z_1_df = gen_zone_patches(\"1\", max_zoom_level, bounds_w, bounds_e)\n",
    "Z_2S_df = gen_zone_patches(\"2S\", max_zoom_level, bounds_w, bounds_e)\n",
    "Z_2N_df = gen_zone_patches(\"2N\", max_zoom_level, bounds_w, bounds_e)\n",
    "Z_3S_df = gen_zone_patches(\"3S\", max_zoom_level, bounds_w, bounds_e)\n",
    "Z_3N_df = gen_zone_patches(\"3N\", max_zoom_level, bounds_w, bounds_e)\n",
    "\n",
    "# Merge into a single dataframe\n",
    "zone_lst = [Z_1_df, Z_2S_df, Z_2N_df, Z_3S_df, Z_3N_df]\n",
    "grid_gdf = pd.concat(zone_lst)"
   ]
  },
  {
   "cell_type": "code",
   "execution_count": null,
   "id": "3706ed50",
   "metadata": {},
   "outputs": [],
   "source": [
    "m = Z_1_df[Z_1_df.p_level==2].explore(style_kwds={\"fillOpacity\": 0.1, \"color\": \"magenta\"}, name=\"Z 1\", highlight=False)\n",
    "Z_2S_df[Z_2S_df.p_level==2].explore(style_kwds={\"fillOpacity\": 0.1, \"color\": \"blue\"}, name=\"Z 2S\", highlight=False, m=m)\n",
    "Z_3S_df[Z_3S_df.p_level==2].explore(style_kwds={\"fillOpacity\": 0.1, \"color\": \"red\"}, name=\"Z 3S\", highlight=False, m=m)\n",
    "Z_2N_df[Z_2N_df.p_level==2].explore(style_kwds={\"fillOpacity\": 0.1, \"color\": \"blue\"}, name=\"Z 2N\", highlight=False, m=m)\n",
    "Z_3N_df[Z_3N_df.p_level==2].explore(style_kwds={\"fillOpacity\": 0.1, \"color\": \"red\"}, name=\"Z 3N\", highlight=False, m=m)\n",
    "\n",
    "folium.LayerControl(collapsed=False).add_to(m)"
   ]
  },
  {
   "cell_type": "code",
   "execution_count": null,
   "id": "dc2ab2e5",
   "metadata": {},
   "outputs": [],
   "source": [
    "m"
   ]
  },
  {
   "cell_type": "markdown",
   "id": "ca8b7248",
   "metadata": {},
   "source": [
    "## Upload the table to the database\n",
    "\n",
    "Now we run a SQL command to write the 'world_grid' table to the database. This will take a few minutes to complete."
   ]
  },
  {
   "cell_type": "code",
   "execution_count": null,
   "id": "91b8fcc2",
   "metadata": {},
   "outputs": [],
   "source": [
    "# Drop all previous rows\n",
    "query = (f\"DELETE FROM world_grid\")\n",
    "db_conn.run_query(query)"
   ]
  },
  {
   "cell_type": "code",
   "execution_count": null,
   "id": "405058b1-915a-4672-a126-c6781111f13a",
   "metadata": {},
   "outputs": [],
   "source": [
    "# Insert the new grid entries in batch mode\n",
    "data = []\n",
    "print(\"[INFO] Formatting rows:\")\n",
    "for row in tqdm(grid_gdf.itertuples(), total=len(grid_gdf)):\n",
    "    data.append(\n",
    "        (row.patch_name, row.quadkey, row.zoom, row.cent_x, row.cent_y,\n",
    "         row.cos_factor, row.p_level, row.zone, str(row.geometry))\n",
    "    )\n",
    "query = (f\"INSERT INTO world_grid\"\n",
    "         f\"(patch_name, quadkey, zoom, cent_x, cent_y, \"\n",
    "         f\"cos_factor, p_level, zone, geometry) \"\n",
    "         f\"VALUES (%s, %s, %s, %s, %s, %s, %s, %s, ST_GeomFromText(%s, 4326)) \"\n",
    "         f\"ON CONFLICT (patch_name) DO NOTHING;\")\n",
    "print(\"[INFO] Inserting table in batch mode.\", flush=True)\n",
    "db_conn.run_batch_insert(query, data)\n",
    "print(\"[INFO] DONE\")"
   ]
  },
  {
   "cell_type": "markdown",
   "id": "9da4bf79-6117-4e0e-ab0a-7e31ec942335",
   "metadata": {},
   "source": [
    "Once the INSERT query has completed, we can check for a successful upload by querying and plotting the grid."
   ]
  },
  {
   "cell_type": "code",
   "execution_count": null,
   "id": "ea3e2a8c-8cc3-4689-88fe-994ac77d50a1",
   "metadata": {},
   "outputs": [],
   "source": [
    "# Define and execute the query\n",
    "query = (f\"SELECT patch_name, p_level, zoom, ST_AsText(geometry) \"\n",
    "         f\"FROM world_grid \" \n",
    "         f\"WHERE zone = %s;\")\n",
    "data = (\"1\",)\n",
    "subgrid_df = db_conn.run_query(query, data, fetch=True)\n",
    "print(f\"[INFO] Returned {len(subgrid_df)} rows.\")"
   ]
  },
  {
   "cell_type": "code",
   "execution_count": null,
   "id": "8db8124e-e511-4b2c-8702-c277a6efe0ea",
   "metadata": {},
   "outputs": [],
   "source": [
    "# Format the results into a correct GeoDataFrame\n",
    "subgrid_df['geometry'] = gpd.GeoSeries.from_wkt(subgrid_df['st_astext'])\n",
    "subgrid_df.drop(['st_astext'], axis=1, inplace = True)\n",
    "subgrid_gdf = gpd.GeoDataFrame(subgrid_df, geometry='geometry', crs=\"EPSG:4326\")"
   ]
  },
  {
   "cell_type": "code",
   "execution_count": null,
   "id": "8ad83d76-5bf4-47bb-bdb3-854b767c8fd8",
   "metadata": {},
   "outputs": [],
   "source": [
    "# Plot the Zone 1 grid at two p_levels\n",
    "m = subgrid_gdf[subgrid_gdf.p_level==1].explore(style_kwds={\"fillOpacity\": 0.1, \"color\": \"magenta\"}, name=\"P 1\", highlight=False)\n",
    "subgrid_gdf[subgrid_gdf.p_level==2].explore(style_kwds={\"fillOpacity\": 0.1, \"color\": \"blue\"}, name=\"P 2\", highlight=False, m=m)\n",
    "\n",
    "folium.LayerControl(collapsed=False).add_to(m)"
   ]
  },
  {
   "cell_type": "code",
   "execution_count": null,
   "id": "693bc3a8-2660-4410-9493-4fbc0feafcf5",
   "metadata": {},
   "outputs": [],
   "source": [
    "m"
   ]
  },
  {
   "cell_type": "code",
   "execution_count": null,
   "id": "19b0a4e7-51a9-4e60-9daf-28da142b5f80",
   "metadata": {},
   "outputs": [],
   "source": []
  }
 ],
 "metadata": {
  "kernelspec": {
   "display_name": "Python (floodmapper)",
   "language": "python",
   "name": "floodmapper"
  },
  "language_info": {
   "codemirror_mode": {
    "name": "ipython",
    "version": 3
   },
   "file_extension": ".py",
   "mimetype": "text/x-python",
   "name": "python",
   "nbconvert_exporter": "python",
   "pygments_lexer": "ipython3",
   "version": "3.9.19"
  }
 },
 "nbformat": 4,
 "nbformat_minor": 5
}
