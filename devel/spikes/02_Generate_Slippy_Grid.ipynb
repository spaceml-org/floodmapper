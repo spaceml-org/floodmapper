{
 "cells": [
  {
   "cell_type": "markdown",
   "id": "092fa749",
   "metadata": {},
   "source": [
    "# Generate a slippy tile compatible sampling grid over Australia\n",
    "\n",
    "This notebook generates the grid of square 'patches' used for sampling areas of interest. Each patch has a unique name derived from the (zoom, x, y) coordinate that [Google defines for web map services](https://www.maptiler.com/google-maps-coordinates-tile-bounds-projection/). \n",
    "\n",
    "FloodMapper uses the Zoom-10, -9 and -8 web-tiles as a basic processing unit, decreasing the zoom level away from the Equator to compensate for the shrinking area of the tiles. Each tile is padded by 0.009 degrees (approx 1km at the Equator) to support seamless mosaicking. \n",
    "\n",
    "Note: the schema of the database is available in the file [floodmapper-db-schema.sql](floodmapper-db-schema.sql)."
   ]
  },
  {
   "cell_type": "code",
   "execution_count": null,
   "id": "10ff7739",
   "metadata": {},
   "outputs": [],
   "source": [
    "# Necessary imports\n",
    "import os\n",
    "os.environ['USE_PYGEOS'] = '0'\n",
    "import itertools\n",
    "from shapely.geometry import box\n",
    "import warnings\n",
    "import numpy as np\n",
    "import math as math\n",
    "import pandas as pd\n",
    "import geopandas as gpd\n",
    "from shapely.geometry import Polygon\n",
    "import mercantile\n",
    "import folium\n",
    "import matplotlib.pyplot as plt\n",
    "from dotenv import load_dotenv\n",
    "from db_utils import DB"
   ]
  },
  {
   "cell_type": "markdown",
   "id": "e5e4bf52",
   "metadata": {},
   "source": [
    "## Load environment and project details\n",
    "\n",
    "As with the other notebooks, we load credentials and project details from a hidden ```.env``` file."
   ]
  },
  {
   "cell_type": "code",
   "execution_count": null,
   "id": "3e96e7bf",
   "metadata": {},
   "outputs": [],
   "source": [
    "# Load environment variables (including path to credentials) from '.env' file\n",
    "env_file_path = \"../.env\"\n",
    "\n",
    "# Uncomment for alternative version for Windows (r\"\" indicates raw string)\n",
    "#env_file_path = r\"C:/Users/User/floodmapper/.env\"\n",
    "\n",
    "assert load_dotenv(dotenv_path=env_file_path) == True, \"[ERR] Failed to load environment!\"\n",
    "assert \"GOOGLE_APPLICATION_CREDENTIALS\" in os.environ, \"[ERR] Missing $GOOGLE_APPLICATION_CREDENTIAL!\"\n",
    "assert \"GS_USER_PROJECT\" in os.environ, \"[ERR] Missing $GS_USER_PROJECT!\"\n",
    "key_file_path = os.environ[\"GOOGLE_APPLICATION_CREDENTIALS\"]\n",
    "assert os.path.exists(key_file_path), f\"[ERR] Google credential key file does not exist: \\n{key_file_path} \"\n",
    "assert \"ML4FLOODS_BASE_DIR\" in os.environ, \"[ERR] Missing $ML4FLOODS_BASE_DIR!\"\n",
    "base_path = os.environ[\"ML4FLOODS_BASE_DIR\"]\n",
    "assert os.path.exists(base_path), f\"[ERR] Base path does not exist: \\n{base_path} \"\n",
    "bucket_name = os.environ[\"BUCKET_URI\"]\n",
    "assert bucket_name is not None and bucket_name != \"\", f\"Bucket name not defined {bucket_name}\"\n",
    "print(\"[INFO] Successfully loaded FloodMapper environment.\")"
   ]
  },
  {
   "cell_type": "markdown",
   "id": "a2af4df6",
   "metadata": {},
   "source": [
    "## Set the zone parameters\n",
    "\n",
    "The transitions to next-larger-area zoom levels happen at ~60 and ~75 degrees, when the current tile area shrinks to 1/4 and 1/16 of an equatorial tile."
   ]
  },
  {
   "cell_type": "code",
   "execution_count": null,
   "id": "cb0a7185",
   "metadata": {},
   "outputs": [],
   "source": [
    "# Zone transitions - switch Zoom level \n",
    "lat_transition_1 = 60.239811169998916\n",
    "lat_transition_2 = 75.49715731893085\n",
    "\n",
    "# Initial bounding box covering all of Australia\n",
    "bounds_n = 80.0\n",
    "bounds_s = -80.0\n",
    "bounds_w = 112.900000000000\n",
    "bounds_e = 153.63872785102905"
   ]
  },
  {
   "cell_type": "code",
   "execution_count": null,
   "id": "3cd5cf8e",
   "metadata": {},
   "outputs": [],
   "source": [
    "def custom_feature(tile):\n",
    "    \"\"\"\n",
    "    Generate extra features for use with FloodMapper when\n",
    "    creating a Pandas GeoDataFrame.\n",
    "    \n",
    "    Parameters:\n",
    "    - tile: A mercantile Tile object.\n",
    "\n",
    "    Returns:\n",
    "    - features: A dictionary of features.\n",
    "    \n",
    "    \"\"\"\n",
    "    \n",
    "    # Create the default dictionary and add more features\n",
    "    fd = mercantile.feature(\n",
    "        tile, \n",
    "        props={'quadkey': mercantile.quadkey(tile), \n",
    "               'patch_name': f\"G_{tile.z}_{tile.x}_{tile.y}\",\n",
    "               'zoom': tile.z})\n",
    "\n",
    "    # Add a centroid feature\n",
    "    cent_x, cent_y = np.mean(fd['geometry']['coordinates'], axis=1)[0]\n",
    "    fd['properties']['cent_x'] = cent_x\n",
    "    fd['properties']['cent_y'] = cent_y\n",
    "\n",
    "    # Calculate the Cos(lat) factor\n",
    "    cos_factor = math.cos(math.radians(cent_y))\n",
    "    fd['properties']['cos_factor'] = cos_factor\n",
    "\n",
    "    return fd"
   ]
  },
  {
   "cell_type": "markdown",
   "id": "85a95d8f",
   "metadata": {},
   "source": [
    "## Generate the Equatorial tiles (Zone 1)"
   ]
  },
  {
   "cell_type": "code",
   "execution_count": null,
   "id": "119f260d",
   "metadata": {},
   "outputs": [],
   "source": [
    "# Generate the patches using mercantile\n",
    "zoom_level = 10\n",
    "limit_n = min(bounds_n, lat_transition_1)\n",
    "limit_s = max(bounds_s, -1 * lat_transition_1)\n",
    "tiles_Z1 = list(mercantile.tiles(bounds_w, limit_s, bounds_e, limit_n, zoom_level))\n",
    "tiles_Z1[:5]"
   ]
  },
  {
   "cell_type": "code",
   "execution_count": null,
   "id": "2dadac9b",
   "metadata": {},
   "outputs": [],
   "source": [
    "# Generate Zone 1 GeoDataFrame from the features\n",
    "crs_code = \"EPSG:4326\"\n",
    "features_Z1 = [custom_feature(tile) for tile in tiles_Z1] \n",
    "grid_Z1 = gpd.GeoDataFrame.from_features(\n",
    "    features_Z1, crs=crs_code, \n",
    "    columns=[\"geometry\", \"patch_name\", \"quadkey\", \"zoom\", \"cent_x\", \"cent_y\", \"cos_factor\"])\n",
    "grid_Z1.head(3)"
   ]
  },
  {
   "cell_type": "markdown",
   "id": "90682d0d",
   "metadata": {},
   "source": [
    "## Generate the southern Zone 2"
   ]
  },
  {
   "cell_type": "code",
   "execution_count": null,
   "id": "582c582f",
   "metadata": {},
   "outputs": [],
   "source": [
    "# Zone 2 - south\n",
    "zoom_level = 9\n",
    "limit_n = min(bounds_n, -1 * lat_transition_1)\n",
    "limit_s = max(bounds_s, -1 * lat_transition_2)\n",
    "tiles_Z2S = list(mercantile.tiles(bounds_w, limit_s, bounds_e, limit_n, zoom_level))\n",
    "tiles_Z2S[:5]"
   ]
  },
  {
   "cell_type": "code",
   "execution_count": null,
   "id": "2aafd8a8",
   "metadata": {},
   "outputs": [],
   "source": [
    "# Generate Zone 2 South GeoDataFrame from the features\n",
    "features_Z2S = [custom_feature(tile) for tile in tiles_Z2S] \n",
    "grid_Z2S = gpd.GeoDataFrame.from_features(\n",
    "    features_Z2S, crs=crs_code, \n",
    "    columns=[\"geometry\", \"patch_name\", \"quadkey\", \"zoom\", \"cent_x\", \"cent_y\", \"cos_factor\"])\n",
    "grid_Z2S.head()"
   ]
  },
  {
   "cell_type": "markdown",
   "id": "11fc8931",
   "metadata": {},
   "source": [
    "## Generate the southern Zone 3"
   ]
  },
  {
   "cell_type": "code",
   "execution_count": null,
   "id": "331704c0",
   "metadata": {},
   "outputs": [],
   "source": [
    "# Zone 3 South\n",
    "zoom_level = 8\n",
    "limit_n = min(bounds_n, -1 * lat_transition_2)\n",
    "limit_s = bounds_s\n",
    "tiles_Z3S = list(mercantile.tiles(bounds_w, limit_s, bounds_e, limit_n, zoom_level))\n",
    "tiles_Z3S[:5]"
   ]
  },
  {
   "cell_type": "code",
   "execution_count": null,
   "id": "609f4f4a",
   "metadata": {},
   "outputs": [],
   "source": [
    "# Generate Zone 3 South GeoDataFrame from the features\n",
    "features_Z3S = [custom_feature(tile) for tile in tiles_Z3S] \n",
    "grid_Z3S = gpd.GeoDataFrame.from_features(\n",
    "    features_Z3S, crs=crs_code, \n",
    "    columns=[\"geometry\", \"patch_name\", \"quadkey\", \"zoom\", \"cent_x\", \"cent_y\", \"cos_factor\"])\n",
    "grid_Z3S.head()"
   ]
  },
  {
   "cell_type": "code",
   "execution_count": null,
   "id": "b9475ead",
   "metadata": {},
   "outputs": [],
   "source": [
    "# Plot the grid\n",
    "m = grid_Z1.explore(style_kwds={\"fillOpacity\": 0.1,}, name=\"Zoom 10\", highlight=False)\n",
    "grid_Z2S.explore(style_kwds={\"fillOpacity\": 0.1, \"color\": \"magenta\"}, name=\"Zoom 9\", highlight=False, m=m)\n",
    "grid_Z3S.explore(style_kwds={\"fillOpacity\": 0.1, \"color\": \"yellow\"}, name=\"Zoom 8\", highlight=False, m=m)\n",
    "folium.LayerControl(collapsed=False).add_to(m)"
   ]
  },
  {
   "cell_type": "code",
   "execution_count": null,
   "id": "a934aec6",
   "metadata": {},
   "outputs": [],
   "source": [
    "m"
   ]
  },
  {
   "cell_type": "code",
   "execution_count": null,
   "id": "aaa68f27",
   "metadata": {},
   "outputs": [],
   "source": []
  }
 ],
 "metadata": {
  "kernelspec": {
   "display_name": "Python (floodmapper)",
   "language": "python",
   "name": "floodmapper"
  },
  "language_info": {
   "codemirror_mode": {
    "name": "ipython",
    "version": 3
   },
   "file_extension": ".py",
   "mimetype": "text/x-python",
   "name": "python",
   "nbconvert_exporter": "python",
   "pygments_lexer": "ipython3",
   "version": "3.9.16"
  }
 },
 "nbformat": 4,
 "nbformat_minor": 5
}
