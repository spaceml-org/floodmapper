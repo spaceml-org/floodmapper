{
 "cells": [
  {
   "cell_type": "markdown",
   "id": "99f5b5f6",
   "metadata": {},
   "source": [
    "# Investigate ```mercantile``` for creating global mapping grid\n",
    "\n",
    "We want to create a sampling grid that is compatable with the standard used by Google in Sperical Web Mercator projection. This will allow simple compatability with external tools and web tile servers (almost all map services use this system now).\n",
    "\n",
    "The tiling system is based on a scaled pyramid that sub-divides each tile in the higher level into 4 square components. Zoom Level 10 offers tiles approximately equivalent to the current FloodMapper tiles. Zoom level 9 (x4 times larger) or 8 (16x larger) may be a good size to perform the vectorisation step.\n",
    "\n",
    "Web Mercator projection is encoded as [EPSG:4326](https://epsg.io/4326) for angular definitions [EPSG:3857](https://epsg.io/3857) for projected distances. \n",
    "\n",
    "However, conversions to EPSG:3857 result in Northing errors up to 43 km (!!!) at high latitudes and up to 0.7% errors in scale. For detailed work requiring accurate scales and distances, we should convert to the local [UTM region](https://www.usgs.gov/faqs/what-does-term-utm-mean-utm-better-or-more-accurate-latitudelongitude). For most mapping steps, we will work in angular scales, converting to a projected system at the last possible time.\n",
    "\n",
    "The Sydney UTM Zone is 56S = [EPSG:32756](https://epsg.io/32756).\n",
    "\n",
    "For Australia, one of the [GDA2020 / MGA Zones](https://www.spatial.nsw.gov.au/__data/assets/pdf_file/0020/216614/2017_Janssen_APAS2017_GDA2020-AUSGeoid2020-ATRF_introduction.pdf) could also be used (e.g., MGA Zone 55 = [EPSG:7855](https://epsg.io/7855) for central NSW).\n",
    "\n",
    "\n",
    "## Links and resources\n",
    "\n",
    "**Core Refs**\n",
    "* https://www.maptiler.com/google-maps-coordinates-tile-bounds-projection/#1/161.35/-2.53\n",
    "* https://mercantile.readthedocs.io/en/stable/api/modules.html\n",
    "* https://wiki.openstreetmap.org/wiki/Slippy_map_tilenames (Filename(url) format is /zoom/x/y.png)\n",
    "* https://en.wikipedia.org/wiki/Web_Mercator_projection\n",
    "* https://qldglobe.information.qld.gov.au/help-info/mapping-fundamentals.html\n",
    "* https://source.opennews.org/articles/choosing-right-map-projection/\n",
    "\n",
    "\n",
    "**Questions**\n",
    "* https://gis.stackexchange.com/questions/437144/how-to-create-raster-tiles-in-the-slippy-map-tilenames-format-from-aerial-imager\n",
    "* https://python.hotexamples.com/examples/mercantile/-/tiles/python-tiles-function-examples.html\n",
    "* https://medium.com/helpful-human/world-adventures-how-i-learned-all-about-slippy-tile-maps-28cd84a89e12\n",
    "* https://geopandas.org/en/stable/docs/reference/api/geopandas.GeoSeries.buffer.html"
   ]
  },
  {
   "cell_type": "code",
   "execution_count": null,
   "id": "ccedf030",
   "metadata": {},
   "outputs": [],
   "source": [
    "# Necessary imports\n",
    "import os\n",
    "os.environ['USE_PYGEOS'] = '0'\n",
    "import numpy as np\n",
    "import math as math\n",
    "import pandas as pd\n",
    "import geopandas as gpd\n",
    "from shapely.geometry import Polygon\n",
    "import mercantile\n",
    "import folium\n",
    "import matplotlib.pyplot as plt"
   ]
  },
  {
   "cell_type": "markdown",
   "id": "84cd3d59",
   "metadata": {},
   "source": [
    "## Defining a grid for Australia"
   ]
  },
  {
   "cell_type": "code",
   "execution_count": null,
   "id": "15d93d6c",
   "metadata": {},
   "outputs": [],
   "source": [
    "# Initial bounding box covering all of Australia\n",
    "# (long_min, lat_min, long_max, lat_max)\n",
    "# (west, south, east, north)\n",
    "#bounds_initial = (112.900000000000, -44.00516044138397, \n",
    "#                  153.63872785102905, -10.244936010554465)\n",
    "\n",
    "# Test for larger areas\n",
    "#bounds_initial = (-180.0, -10.0, \n",
    "#                  180.0, 10.0)\n",
    "\n",
    "# Test for high latitudes\n",
    "bounds_initial = (150.6, -85.0, \n",
    "                  151.6, 0.0)\n",
    "\n",
    "# Test for northern latitudes\n",
    "#bounds_initial = (-22, 0.0, \n",
    "#                  -20, 85.0)"
   ]
  },
  {
   "cell_type": "code",
   "execution_count": null,
   "id": "eac895df",
   "metadata": {},
   "outputs": [],
   "source": [
    "# Set the coordinates\n",
    "west = bounds_initial[0]\n",
    "south = bounds_initial[1]\n",
    "east = bounds_initial[2]\n",
    "north = bounds_initial[3]\n",
    "\n",
    "# Grab lists of tiles at different zoom levels within the box\n",
    "tiles_10 = list(mercantile.tiles(west, south, east, north, 10))\n",
    "tiles_9 = list(mercantile.tiles(west, south, east, north, 9))\n",
    "tiles_8 = list(mercantile.tiles(west, south, east, north, 8))\n",
    "tiles_7 = list(mercantile.tiles(west, south, east, north, 7))\n",
    "tiles_6 = list(mercantile.tiles(west, south, east, north, 6))\n",
    "tiles_5 = list(mercantile.tiles(west, south, east, north, 5))\n",
    "\n",
    "print(f\"There are {len(tiles_10)} tiles_10.\")\n",
    "print(f\"There are {len(tiles_9)} tiles_9.\")\n",
    "print(f\"There are {len(tiles_8)} tiles_8.\")"
   ]
  },
  {
   "cell_type": "code",
   "execution_count": null,
   "id": "f7e6a9dc",
   "metadata": {},
   "outputs": [],
   "source": [
    "# TEST: Grab the unique quadkey that maps the location in the pyramid\n",
    "tile = tiles_10[-1]\n",
    "quadkey = mercantile.quadkey(tile)\n",
    "quadkey"
   ]
  },
  {
   "cell_type": "code",
   "execution_count": null,
   "id": "58dae471",
   "metadata": {},
   "outputs": [],
   "source": [
    "l = mercantile.lnglat(tile.x, tile.y)\n",
    "np.degrees(l.lat)"
   ]
  },
  {
   "cell_type": "code",
   "execution_count": null,
   "id": "36414c6c",
   "metadata": {},
   "outputs": [],
   "source": [
    "# TEST: Generate a feature dictionary that can be used to make a GeoJSON\n",
    "fd = mercantile.feature(tile)\n",
    "fd"
   ]
  },
  {
   "cell_type": "code",
   "execution_count": null,
   "id": "fcd500d4",
   "metadata": {},
   "outputs": [],
   "source": [
    "def custom_feature(tile):\n",
    "    \"\"\"\n",
    "    Generate extra features for use with FloodMapper.\n",
    "    \n",
    "    Parameters:\n",
    "    - tile: A mercantile Tile object.\n",
    "\n",
    "    Returns:\n",
    "    - features: A dictionary of features.\n",
    "    \n",
    "    \"\"\"\n",
    "    \n",
    "    # Create the default dictionary and add more features\n",
    "    fd = mercantile.feature(\n",
    "        tile, \n",
    "        props={'quadkey': mercantile.quadkey(tile), \n",
    "               'patch_name': f\"G_{tile.z}_{tile.x}_{tile.y}\",\n",
    "               'zoom': tile.z})\n",
    "\n",
    "    # Add a centroid feature\n",
    "    cent_x, cent_y = np.mean(fd['geometry']['coordinates'], axis=1)[0]\n",
    "    fd['properties']['cent_x'] = cent_x\n",
    "    fd['properties']['cent_y'] = cent_y\n",
    "\n",
    "    # Calculate the Cos(lat) factor\n",
    "    cos_factor = math.cos(math.radians(cent_y))\n",
    "    fd['properties']['cos_factor'] = cos_factor\n",
    "\n",
    "    return fd\n",
    "\n",
    "\n",
    "# Generate GeoDataFrames from the features\n",
    "crs_code = \"EPSG:4326\"\n",
    "features_10 = [custom_feature(tile) for tile in tiles_10] \n",
    "grid_10 = gpd.GeoDataFrame.from_features(\n",
    "    features_10, crs=crs_code, \n",
    "    columns=[\"geometry\", \"patch_name\", \"quadkey\", \"zoom\", \"cent_x\", \"cent_y\", \"cos_factor\"])\n",
    "features_9 = [custom_feature(tile) for tile in tiles_9] \n",
    "grid_9 = gpd.GeoDataFrame.from_features(\n",
    "    features_9, crs=crs_code, \n",
    "    columns=[\"geometry\", \"patch_name\", \"quadkey\", \"zoom\", \"cent_x\", \"cent_y\", \"cos_factor\"])\n",
    "features_8 = [custom_feature(tile) for tile in tiles_8] \n",
    "grid_8 = gpd.GeoDataFrame.from_features(\n",
    "    features_8, crs=crs_code, \n",
    "    columns=[\"geometry\", \"patch_name\", \"quadkey\", \"zoom\", \"cent_x\", \"cent_y\", \"cos_factor\"])\n",
    "features_7 = [custom_feature(tile) for tile in tiles_7] \n",
    "grid_7 = gpd.GeoDataFrame.from_features(\n",
    "    features_7, crs=crs_code, \n",
    "    columns=[\"geometry\", \"patch_name\", \"quadkey\", \"zoom\", \"cent_x\", \"cent_y\", \"cos_factor\"])\n",
    "features_6 = [custom_feature(tile) for tile in tiles_6] \n",
    "grid_6 = gpd.GeoDataFrame.from_features(\n",
    "    features_6, crs=crs_code, \n",
    "    columns=[\"geometry\", \"patch_name\", \"quadkey\", \"zoom\", \"cent_x\", \"cent_y\", \"cos_factor\"])\n",
    "features_5 = [custom_feature(tile) for tile in tiles_5] \n",
    "grid_5 = gpd.GeoDataFrame.from_features(\n",
    "    features_5, crs=crs_code, \n",
    "    columns=[\"geometry\", \"patch_name\", \"quadkey\", \"zoom\", \"cent_x\", \"cent_y\", \"cos_factor\"])"
   ]
  },
  {
   "cell_type": "code",
   "execution_count": null,
   "id": "d85ffb0d",
   "metadata": {},
   "outputs": [],
   "source": [
    "# Plot the grid on openstreet maps\n",
    "m = grid_10.explore(style_kwds={\"fillOpacity\": 0.1,}, name=\"Zoom 10\", highlight=False)\n",
    "grid_9.explore(m=m, style_kwds={\"fillOpacity\": 0.0, \"color\": \"red\"}, name=\"Zoom 9\", highlight=False)\n",
    "grid_8.explore(m=m, style_kwds={\"fillOpacity\": 0.0, \"color\": \"green\"}, name=\"Zoom 8\", highlight=False)\n",
    "folium.LayerControl(collapsed=False).add_to(m)"
   ]
  },
  {
   "cell_type": "code",
   "execution_count": null,
   "id": "f000f8de",
   "metadata": {},
   "outputs": [],
   "source": [
    "m"
   ]
  },
  {
   "cell_type": "markdown",
   "id": "e2f58cf0",
   "metadata": {},
   "source": [
    "## Choosing a pixel scale for Sentinel-2 imagery"
   ]
  },
  {
   "cell_type": "code",
   "execution_count": null,
   "id": "c2a7e9bc",
   "metadata": {},
   "outputs": [],
   "source": [
    "# Convert the CRS to a projected system\n",
    "# EPSG:3857 ... inaccurate \n",
    "# EPSG:7855 ... better\n",
    "# EPSG:32755 (WGS 84 / UTM zone 55S) ... best for central NSW \n",
    "#target_epsg = 3857\n",
    "#target_epsg = 7855\n",
    "#target_epsg = 32755\n",
    "target_epsg=32756 # Sydney UTM Zone\n",
    "\n",
    "grid_10_projected = grid_10.to_crs(epsg=target_epsg, inplace=False)\n",
    "m = grid_10_projected.explore(name=\"Projected\")\n",
    "grid_10.explore(m=m, color=\"red\", name=\"Angular\")\n",
    "folium.LayerControl(collapsed=False).add_to(m)"
   ]
  },
  {
   "cell_type": "code",
   "execution_count": null,
   "id": "8d45be78",
   "metadata": {},
   "outputs": [],
   "source": [
    "m"
   ]
  },
  {
   "cell_type": "code",
   "execution_count": null,
   "id": "37dd38ee",
   "metadata": {},
   "outputs": [],
   "source": [
    "# Select the patches at extreme latitudes\n",
    "#patch_names = [\"G_8_231_128\", \"G_8_231_255\"]\n",
    "patch_names = [\"G_10_941_1022\", \"G_10_941_512\"]\n",
    "#patch_names = [\"G_10_452_511\", \"G_10_452_1\"]\n",
    "pe = grid_10_projected[grid_10_projected.patch_name.isin(patch_names)]\n",
    "pe"
   ]
  },
  {
   "cell_type": "code",
   "execution_count": null,
   "id": "7f4661fa",
   "metadata": {},
   "outputs": [],
   "source": [
    "# Select and plot the upper patch\n",
    "coords_x, coords_y = pe.iloc[0].geometry.boundary.coords.xy\n",
    "print(f\"X = {coords_x}\")\n",
    "print(f\"Y = {coords_y}\")\n",
    "fig, ax = plt.subplots(1,1, figsize=(15,5))\n",
    "ax.plot(coords_x, coords_y, color=\"red\")\n",
    "ax.scatter(coords_x[0], coords_y[0])\n",
    "ax.set_xlabel(\"X Coordinate (m)\")\n",
    "ax.set_ylabel(\"Y Coordinate (m)\")"
   ]
  },
  {
   "cell_type": "code",
   "execution_count": null,
   "id": "505dffe8",
   "metadata": {},
   "outputs": [],
   "source": [
    "# Calculate lengths\n",
    "print(\"UPPER PATCH\")\n",
    "u_south_side_m = coords_x[3] - coords_x[0]\n",
    "u_north_side_m = coords_x[2] - coords_x[1]\n",
    "print(\"Length south {:f} (km)\".format(u_south_side_m/1000))\n",
    "print(\"Length north {:f} (km)\".format(u_north_side_m/1000))\n",
    "u_west_side_m = coords_y[1] - coords_y[0]\n",
    "u_east_side_m = coords_y[2] - coords_y[3]\n",
    "print(\"Length west {:f} (km)\".format(u_west_side_m/1000))\n",
    "print(\"Length east {:f} (km)\".format(u_east_side_m/1000))"
   ]
  },
  {
   "cell_type": "code",
   "execution_count": null,
   "id": "5b7903bb",
   "metadata": {},
   "outputs": [],
   "source": [
    "# Select and plot the lower patch\n",
    "coords_x, coords_y = pe.iloc[1].geometry.boundary.coords.xy\n",
    "print(f\"X = {coords_x}\")\n",
    "print(f\"Y = {coords_y}\")\n",
    "fig, ax = plt.subplots(1,1, figsize=(15,5))\n",
    "ax.plot(coords_x, coords_y, color=\"red\")\n",
    "ax.scatter(coords_x[0], coords_y[0])\n",
    "ax.set_xlabel(\"X Coordinate (m)\")\n",
    "ax.set_ylabel(\"Y Coordinate (m)\")"
   ]
  },
  {
   "cell_type": "code",
   "execution_count": null,
   "id": "43e64af3",
   "metadata": {},
   "outputs": [],
   "source": [
    "# Calculate lengths\n",
    "print(\"UPPER PATCH\")\n",
    "l_south_side_m = coords_x[3] - coords_x[0]\n",
    "l_north_side_m = coords_x[2] - coords_x[1]\n",
    "print(\"Length south {:f} (km)\".format(l_south_side_m/1000))\n",
    "print(\"Length north {:f} (km)\".format(l_north_side_m/1000))\n",
    "l_west_side_m = coords_y[1] - coords_y[0]\n",
    "l_east_side_m = coords_y[2] - coords_y[3]\n",
    "print(\"Length west {:f} (km)\".format(l_west_side_m/1000))\n",
    "print(\"Length east {:f} (km)\".format(l_east_side_m/1000))"
   ]
  },
  {
   "cell_type": "code",
   "execution_count": null,
   "id": "473f7cc4",
   "metadata": {},
   "outputs": [],
   "source": [
    "# SANITY CHECK: Cos(latitude) scaling factor\n",
    "scale_factor = np.cos(np.radians(bounds_initial[1]))\n",
    "print(scale_factor)\n",
    "lower_len = u_north_side_m * scale_factor\n",
    "print(f\"CHANGE: Upper {u_north_side_m/1000} -> {lower_len/1000}\")"
   ]
  },
  {
   "cell_type": "markdown",
   "id": "d100543e",
   "metadata": {},
   "source": [
    "**Pixel Size**\n",
    "\n",
    "The maximum width width of a patch at low latitude is 39122m and we desire 10m pixel sizes. This means we need to sample the Zoom-10 patches with 3912 ~ 4000 pixels. This will be our base resolution.\n",
    "\n",
    "At full resolution, Zoom-9 images will be 8000 pixels wide and Zoom-8 images will be 16000 pixels wide.\n",
    "\n",
    "However, all patches will need to be padded on all sides to ensure overlap when mosaicing. In the older version of floodmapper the side lengths were expanded by 5% (2.5% on each side).\n",
    "\n"
   ]
  },
  {
   "cell_type": "markdown",
   "id": "e98cc6ed",
   "metadata": {},
   "source": [
    "## Measure the patch width in degrees and calculate padding"
   ]
  },
  {
   "cell_type": "code",
   "execution_count": null,
   "id": "fcc7560a",
   "metadata": {},
   "outputs": [],
   "source": [
    "pe = grid_10[grid_10.patch_name.isin(patch_names)]\n",
    "pe"
   ]
  },
  {
   "cell_type": "code",
   "execution_count": null,
   "id": "fa6247ca",
   "metadata": {},
   "outputs": [],
   "source": [
    "# Select and plot the upper patch\n",
    "coords_x, coords_y = pe.iloc[1].geometry.boundary.coords.xy\n",
    "print(f\"X = {coords_x}\")\n",
    "print(f\"Y = {coords_y}\")\n",
    "fig, ax = plt.subplots(1,1, figsize=(15,5))\n",
    "ax.plot(coords_x, coords_y, color=\"red\")\n",
    "ax.scatter(coords_x[0], coords_y[0])\n",
    "ax.set_xlabel(\"Longitude (deg)\")\n",
    "ax.set_ylabel(\"Latitude (deg)\")"
   ]
  },
  {
   "cell_type": "code",
   "execution_count": null,
   "id": "8c8e9882",
   "metadata": {},
   "outputs": [],
   "source": [
    "# Calculate lengths\n",
    "print(\"UPPER PATCH\")\n",
    "u_south_side_deg = coords_x[3] - coords_x[0]\n",
    "u_north_side_deg = coords_x[2] - coords_x[1]\n",
    "print(\"Length south {:f} (deg)\".format(u_south_side_deg))\n",
    "print(\"Length north {:f} (deg)\".format(u_north_side_deg))\n",
    "u_west_side_deg = coords_y[1] - coords_y[0]\n",
    "u_east_side_deg = coords_y[2] - coords_y[3]\n",
    "print(\"Length west {:f} (deg)\".format(u_west_side_deg))\n",
    "print(\"Length east {:f} (deg)\".format(u_east_side_deg))"
   ]
  },
  {
   "cell_type": "code",
   "execution_count": null,
   "id": "3361da3e",
   "metadata": {},
   "outputs": [],
   "source": [
    "# Calculate the padding in degrees\n",
    "pad = u_north_side_deg*0.05/2\n",
    "print(f\"PADDING: {pad} (deg).\")"
   ]
  },
  {
   "cell_type": "markdown",
   "id": "67f4ba79",
   "metadata": {},
   "source": [
    "The conversion factor between deg and m is (39121.412 m / 0.351562 deg) = 111278.841 at low lat.\n",
    "\n",
    "A constant padding of 0.009 deg = 1001.5 m at the equator and 87m at -85 degrees latitude."
   ]
  },
  {
   "cell_type": "markdown",
   "id": "2334c612",
   "metadata": {},
   "source": [
    "## Investigate buffering"
   ]
  },
  {
   "cell_type": "code",
   "execution_count": null,
   "id": "f52ea9c9",
   "metadata": {},
   "outputs": [],
   "source": [
    "# Use Shapely buffer() to add padding to the tiles\n",
    "grid_10_buffer = grid_10.buffer(0.009, join_style=2)"
   ]
  },
  {
   "cell_type": "code",
   "execution_count": null,
   "id": "854bf26c",
   "metadata": {},
   "outputs": [],
   "source": [
    "# Plot the new tiles\n",
    "m = grid_10_buffer.explore(name=\"Buffered\", style_kwds={\"fillOpacity\": 0.1,})\n",
    "grid_10.explore(m=m, color=\"red\", name=\"Butted\", style_kwds={\"fillOpacity\": 0.1,})\n",
    "folium.LayerControl(collapsed=False).add_to(m)\n",
    "m"
   ]
  },
  {
   "cell_type": "markdown",
   "id": "e0db4905",
   "metadata": {},
   "source": [
    "Buffering using Shapely in angular-space does not work well as we need add different amounts to the X and Y sides."
   ]
  },
  {
   "cell_type": "markdown",
   "id": "fb93cf84",
   "metadata": {},
   "source": [
    "## Investigating area preservation\n",
    "\n",
    "* Slippy tiles become very narrow (E-W) and tall (N-S) at increasing latitudes.\n",
    "* What do square tiles look like if placed at the centroids of the Zoom-10 slippy grid?"
   ]
  },
  {
   "cell_type": "code",
   "execution_count": null,
   "id": "e4fd98af",
   "metadata": {},
   "outputs": [],
   "source": [
    "# Function to create a projected 'square' patch\n",
    "def mk_sq(row, side_deg=0.351562):\n",
    "    \n",
    "    x = []\n",
    "    y = []\n",
    "    delta = abs(side_deg/2.0)\n",
    "\n",
    "    ## Create the tile polygon assuming equal side lengths (approx equal area)\n",
    "    # Corner 0\n",
    "    x.append( row.cent_x - delta/row.cos_factor)\n",
    "    y.append( row.cent_y - delta)\n",
    "    # Corner 1\n",
    "    x.append( row.cent_x - delta/row.cos_factor)\n",
    "    y.append( row.cent_y + delta)\n",
    "    # Corner 2\n",
    "    x.append( row.cent_x + delta/row.cos_factor)\n",
    "    y.append( row.cent_y + delta)\n",
    "    # Corner 3\n",
    "    x.append( row.cent_x + delta/row.cos_factor)\n",
    "    y.append( row.cent_y - delta)\n",
    "    # Close the polygon\n",
    "    x.append(x[0])\n",
    "    y.append(y[0])\n",
    "    \n",
    "    xy_geom = Polygon(zip(x, y))\n",
    "    \n",
    "    return xy_geom\n",
    "    \n",
    "# Create a grid of equal area tiles\n",
    "grid_10_ea = grid_10[[\"patch_name\", \"cent_x\", \"cent_y\", \"cos_factor\"]].copy()\n",
    "for indx, row in grid_10_ea.iterrows():\n",
    "    grid_10_ea.loc[indx, 'geometry'] = mk_sq(row)\n",
    "grid_10_ea = gpd.GeoDataFrame(grid_10_ea, crs=grid_10.crs)\n",
    "grid_10_ea"
   ]
  },
  {
   "cell_type": "code",
   "execution_count": null,
   "id": "fe71c514",
   "metadata": {},
   "outputs": [],
   "source": [
    "# Plot the tiles on a map\n",
    "m = grid_10_ea.explore(style_kwds={\"fillOpacity\": 0}, name=\"Equal_Area\")\n",
    "grid_10.explore(m=m, color=\"red\", name=\"Slippy Tiles\", style_kwds={\"fillOpacity\": 0.1,})\n",
    "folium.LayerControl(collapsed=False).add_to(m)"
   ]
  },
  {
   "cell_type": "code",
   "execution_count": null,
   "id": "78eaaf66",
   "metadata": {},
   "outputs": [],
   "source": [
    "m"
   ]
  },
  {
   "cell_type": "markdown",
   "id": "3b1d40ff",
   "metadata": {},
   "source": [
    "## Investigate the change in side length and area with Latitude\n",
    "\n",
    "We want to plot the change in side-length and area as a function of latitude. This will help inform how we want to generate tiles at different latitudes. The current idea is to decrease zoom levels in steps as we get to higher latitudes, so as to keep the tile area similar, within some bounds."
   ]
  },
  {
   "cell_type": "code",
   "execution_count": null,
   "id": "67644ba9",
   "metadata": {},
   "outputs": [],
   "source": [
    "# Add an area column to the slippy tile grid\n",
    "grid_10_projected[\"area_m2\"] = grid_10_projected.area\n",
    "grid_10_projected[\"area_factor\"] =  grid_10_projected.iloc[0][\"area_m2\"] / grid_10_projected[\"area_m2\"]\n",
    "\n",
    "# Add side length columns\n",
    "def calc_north_side(x):\n",
    "    coords_x, coords_y = x.boundary.coords.xy\n",
    "    len_north_side = coords_x[2] - coords_x[1]\n",
    "    return len_north_side\n",
    "def calc_east_side(x):\n",
    "    coords_x, coords_y = x.boundary.coords.xy\n",
    "    len_east_side = coords_y[2] - coords_y[3]\n",
    "    return len_east_side\n",
    "grid_10_projected[\"side_north\"] = grid_10_projected.geometry.apply(calc_north_side)\n",
    "grid_10_projected[\"side_east\"] = grid_10_projected.geometry.apply(calc_east_side)\n",
    "grid_10_projected.head(2)"
   ]
  },
  {
   "cell_type": "code",
   "execution_count": null,
   "id": "d912da8f",
   "metadata": {},
   "outputs": [],
   "source": [
    "# Plot the side-length as a function of latitude\n",
    "plt.scatter(x=abs(grid_10_projected.cent_y), y=grid_10_projected.side_east/1000, s=1, color=\"r\", alpha=0.2)\n",
    "plt.scatter(x=abs(grid_10_projected.cent_y), y=grid_10_projected.side_north/1000, s=1, color=\"b\", alpha=0.2)\n",
    "plt.xlabel(\"Latitude (deg)\")\n",
    "plt.ylabel(\"Side-Length (km)\")"
   ]
  },
  {
   "cell_type": "markdown",
   "id": "68f7a2a0",
   "metadata": {},
   "source": [
    "The tiles maintain approximately the same aspect ratio with increasing latitude, meaning the longitude extent shrinks away from the Equator."
   ]
  },
  {
   "cell_type": "code",
   "execution_count": null,
   "id": "e3185fca",
   "metadata": {},
   "outputs": [],
   "source": [
    "# Plot the side-length as a function of latitude\n",
    "plt.scatter(x=abs(grid_10_projected.cent_y), \n",
    "            y=grid_10_projected.side_east/grid_10_projected.side_north, \n",
    "            s=1, color=\"r\", alpha=0.2)\n",
    "plt.xlabel(\"Latitude (deg)\")\n",
    "plt.ylabel(\"Side Length Ratio\")"
   ]
  },
  {
   "cell_type": "markdown",
   "id": "50beeece",
   "metadata": {},
   "source": [
    "There is a slight variation in aspect ratio across the latitude range, but nothing to worry about."
   ]
  },
  {
   "cell_type": "code",
   "execution_count": null,
   "id": "185ed724",
   "metadata": {},
   "outputs": [],
   "source": [
    "# Plot the tile area vs latitude\n",
    "ax = plt.scatter(x=abs(grid_10_projected.cent_y), y=grid_10_projected.area_m2/1e6, s=1)\n",
    "plt.xlabel(\"Latitude (deg)\")\n",
    "plt.ylabel(\"Tile Area (km$^2$)\")"
   ]
  },
  {
   "cell_type": "code",
   "execution_count": null,
   "id": "f174dc75",
   "metadata": {},
   "outputs": [],
   "source": [
    "# Plot the change in area from the Equator to high latitude\n",
    "ax = plt.scatter(x=abs(grid_10_projected.cent_y), y=grid_10_projected.area_factor, s=1, color=\"red\", zorder=2)\n",
    "plt.axhline(y=1, color=\"k\", zorder=1, lw=0.5, ls=\"-\")\n",
    "plt.axhline(y=4, color=\"grey\", zorder=1, lw=0.5, ls=\"--\")\n",
    "plt.axhline(y=16, color=\"grey\", zorder=1, lw=0.5, ls=\"--\")\n",
    "plt.axhline(y=64, color=\"grey\", zorder=1, lw=0.5, ls=\"--\")\n",
    "plt.axvline(x=75.8, color=\"grey\", zorder=1, lw=0.5, ls=\"--\")\n",
    "plt.axvline(x=60.2, color=\"grey\", zorder=1, lw=0.5, ls=\"--\")\n",
    "plt.axvline(x=82.8, color=\"grey\", zorder=1, lw=0.5, ls=\"--\")\n",
    "plt.ylim(-1,20)\n",
    "plt.xlabel(\"Latitude (deg)\")\n",
    "plt.ylabel(\"Area Shrink Factor\")"
   ]
  },
  {
   "cell_type": "markdown",
   "id": "3222f9fc",
   "metadata": {},
   "source": [
    "**Ideas on Tiling Scheme**\n",
    "\n",
    "Zoom-10 slippy-map tiles will become 4x smaller in area at 60 degrees latitude and 16x smaller at 75.8 degrees. We should decrease the Zoom level to 9 and 8, respectively before these breakpoints."
   ]
  },
  {
   "cell_type": "code",
   "execution_count": null,
   "id": "954b56af",
   "metadata": {},
   "outputs": [],
   "source": [
    "m = grid_10_projected.explore(style_kwds={\"fillOpacity\": 0}, name=\"Zoom 10\")\n",
    "grid_9.explore(m=m, style_kwds={\"fillOpacity\": 0.0, \"color\": \"black\"}, name=\"Zoom 9\", highlight=False)\n",
    "grid_8.explore(m=m, style_kwds={\"fillOpacity\": 0.0, \"color\": \"yellow\"}, name=\"Zoom 8\", highlight=False)\n",
    "grid_7.explore(m=m, style_kwds={\"fillOpacity\": 0.0, \"color\": \"magenta\"}, name=\"Zoom 7\", highlight=False)\n",
    "grid_6.explore(m=m, style_kwds={\"fillOpacity\": 0.0, \"color\": \"green\"}, name=\"Zoom 6\", highlight=False)\n",
    "grid_5.explore(m=m, style_kwds={\"fillOpacity\": 0.0, \"color\": \"red\"}, name=\"Zoom 5\", highlight=False)\n",
    "folium.LayerControl(collapsed=False).add_to(m)"
   ]
  },
  {
   "cell_type": "code",
   "execution_count": null,
   "id": "e5cd6e59",
   "metadata": {
    "scrolled": false
   },
   "outputs": [],
   "source": [
    "m"
   ]
  },
  {
   "cell_type": "code",
   "execution_count": null,
   "id": "2e48e075",
   "metadata": {},
   "outputs": [],
   "source": [
    "# Get the lower bounds of the last Zoom 10 tile before -60 deg lat.\n",
    "transition_tilename = \"G_10_940_727\"\n",
    "tt = grid_10[grid_10.patch_name==transition_tilename]\n",
    "coords_x, coords_y = tt.iloc[0].geometry.boundary.coords.xy\n",
    "print(f\"X = {coords_x}\")\n",
    "print(f\"Y = {coords_y}\")\n",
    "fig, ax = plt.subplots(1,1, figsize=(15,5))\n",
    "ax.plot(coords_x, coords_y, color=\"red\")\n",
    "ax.scatter(coords_x[0], coords_y[0])\n",
    "ax.set_xlabel(\"X Coordinate (m)\")\n",
    "ax.set_ylabel(\"Y Coordinate (m)\")"
   ]
  },
  {
   "cell_type": "markdown",
   "id": "d5df5c73",
   "metadata": {},
   "source": [
    "**The transition latitude Zoom 10 -> Zoom 9 is +/-60.239811169998916**"
   ]
  },
  {
   "cell_type": "code",
   "execution_count": null,
   "id": "0939242d",
   "metadata": {},
   "outputs": [],
   "source": [
    "# Get the lower bounds of the last Zoom 10 tile before -60 deg lat.\n",
    "transition_tilename = \"G_10_940_847\"\n",
    "tt = grid_10[grid_10.patch_name==transition_tilename]\n",
    "coords_x, coords_y = tt.iloc[0].geometry.boundary.coords.xy\n",
    "print(f\"X = {coords_x}\")\n",
    "print(f\"Y = {coords_y}\")\n",
    "fig, ax = plt.subplots(1,1, figsize=(15,5))\n",
    "ax.plot(coords_x, coords_y, color=\"red\")\n",
    "ax.scatter(coords_x[0], coords_y[0])\n",
    "ax.set_xlabel(\"X Coordinate (m)\")\n",
    "ax.set_ylabel(\"Y Coordinate (m)\")"
   ]
  },
  {
   "cell_type": "markdown",
   "id": "0dc827e9",
   "metadata": {},
   "source": [
    "**The transition latitude Zoom 9 -> Zoom 8 is +/-75.49715731893085**"
   ]
  },
  {
   "cell_type": "code",
   "execution_count": null,
   "id": "ea901cfc",
   "metadata": {},
   "outputs": [],
   "source": []
  }
 ],
 "metadata": {
  "kernelspec": {
   "display_name": "Python (floodmapper)",
   "language": "python",
   "name": "floodmapper"
  },
  "language_info": {
   "codemirror_mode": {
    "name": "ipython",
    "version": 3
   },
   "file_extension": ".py",
   "mimetype": "text/x-python",
   "name": "python",
   "nbconvert_exporter": "python",
   "pygments_lexer": "ipython3",
   "version": "3.9.16"
  }
 },
 "nbformat": 4,
 "nbformat_minor": 5
}
