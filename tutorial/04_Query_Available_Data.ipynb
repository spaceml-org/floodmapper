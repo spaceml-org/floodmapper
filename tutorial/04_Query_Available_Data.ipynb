{
 "cells": [
  {
   "cell_type": "markdown",
   "id": "75b42678",
   "metadata": {},
   "source": [
    "# Query and Visualise Available Satellite Data\n",
    "\n",
    "This notebook presents a workflow to query and visualise the Sentinel-2 and Landsat data available in Google Earth Engine under an area of interest (AOI) and over a specified time range."
   ]
  },
  {
   "cell_type": "code",
   "execution_count": null,
   "id": "c223c4d3",
   "metadata": {},
   "outputs": [],
   "source": [
    "# Necessary Python modules\n",
    "import sys\n",
    "import os\n",
    "os.environ['USE_PYGEOS'] = '0'\n",
    "\n",
    "from ml4floods.data import utils\n",
    "import geopandas as gpd\n",
    "from georeader.readers import ee_query, scihubcopernicus_query\n",
    "import folium\n",
    "from datetime import datetime, timezone, timedelta\n",
    "import ee\n",
    "import geopandas as gpd\n",
    "import pandas as pd\n",
    "import folium\n",
    "from zoneinfo import ZoneInfo\n",
    "import geemap.foliumap as geemap\n",
    "from georeader.readers import query_utils\n",
    "import folium\n",
    "from georeader.readers import S2_SAFE_reader\n",
    "\n",
    "# Set bucket will not be requester pays\n",
    "utils.REQUESTER_PAYS_DEFAULT = False\n",
    "\n",
    "from dotenv import load_dotenv"
   ]
  },
  {
   "cell_type": "markdown",
   "id": "d7087918",
   "metadata": {},
   "source": [
    "## Load environment and project details\n",
    "\n",
    "As with the other notebooks, we load credentials and project details from a hidden ```.env``` file."
   ]
  },
  {
   "cell_type": "code",
   "execution_count": null,
   "id": "e447a084",
   "metadata": {},
   "outputs": [],
   "source": [
    "# Load environment variables (including path to credentials) from '.env' file\n",
    "env_file_path = \"../.env\"\n",
    "\n",
    "# Uncomment for alternative version for Windows (r\"\" indicates raw string)\n",
    "#env_file_path = r\"C:/Users/User/floodmapper/.env\"\n",
    "\n",
    "assert load_dotenv(dotenv_path=env_file_path) == True, \"[ERR] Failed to load environment!\"\n",
    "assert \"GOOGLE_APPLICATION_CREDENTIALS\" in os.environ, \"[ERR] Missing $GOOGLE_APPLICATION_CREDENTIAL!\"\n",
    "assert \"GS_USER_PROJECT\" in os.environ, \"[ERR] Missing $GS_USER_PROJECT!\"\n",
    "key_file_path = os.environ[\"GOOGLE_APPLICATION_CREDENTIALS\"]\n",
    "assert os.path.exists(key_file_path), f\"[ERR] Google credential key file does not exist: \\n{key_file_path} \"\n",
    "assert \"ML4FLOODS_BASE_DIR\" in os.environ, \"[ERR] Missing $ML4FLOODS_BASE_DIR!\"\n",
    "base_path = os.environ[\"ML4FLOODS_BASE_DIR\"]\n",
    "assert os.path.exists(base_path), f\"[ERR] Base path does not exist: \\n{base_path} \"\n",
    "bucket_name = os.environ[\"BUCKET_URI\"]\n",
    "assert bucket_name is not None and bucket_name != \"\", f\"Bucket name not defined {bucket_name}\"\n",
    "print(\"[INFO] Successfully loaded FloodMapper environment.\")"
   ]
  },
  {
   "cell_type": "markdown",
   "id": "3a072aec",
   "metadata": {},
   "source": [
    "**Set the details of the event and mapping session here**."
   ]
  },
  {
   "cell_type": "code",
   "execution_count": null,
   "id": "a48e8f29",
   "metadata": {},
   "outputs": [],
   "source": [
    "# All work is conducted under a unique session name\n",
    "session_name = \"EMSR586\"\n",
    "\n",
    "# Flooding date range (UTC)\n",
    "# May need to start day or two earlier\n",
    "flood_start_date = \"2022-07-01\"\n",
    "flood_end_date = \"2022-07-24\"\n",
    "\n",
    "# Pre-flood date range\n",
    "# This is a time period before the flood event to inspect reference data\n",
    "preflood_start_date = \"2022-06-15\"\n",
    "preflood_end_date = \"2022-06-25\""
   ]
  },
  {
   "cell_type": "markdown",
   "id": "044edc9e",
   "metadata": {},
   "source": [
    "## Parse and check date information\n",
    "\n",
    "We assume the UTC timezone for all date queries."
   ]
  },
  {
   "cell_type": "code",
   "execution_count": null,
   "id": "11cfa944",
   "metadata": {},
   "outputs": [],
   "source": [
    "# First parse the pre- and post-flood dates\n",
    "tz = ZoneInfo(\"UTC\")\n",
    "\n",
    "_start = datetime.strptime(flood_start_date,\"%Y-%m-%d\").replace(tzinfo=tz)\n",
    "_end = datetime.strptime(flood_end_date,\"%Y-%m-%d\").replace(tzinfo=tz)\n",
    "flood_start_period, flood_end_period = sorted([_start, _end])\n",
    "flood_duration = flood_end_period - flood_start_period\n",
    "print(f\"[INFO] Flood search period: \\n\\t{flood_start_period} to \\n\\t{flood_end_period}\")\n",
    "print(f\"[INFO] Flood duration = {flood_duration}\\n\")\n",
    "\n",
    "_start = datetime.strptime(preflood_start_date,\"%Y-%m-%d\").replace(tzinfo=tz)\n",
    "_end = datetime.strptime(preflood_end_date,\"%Y-%m-%d\").replace(tzinfo=tz)\n",
    "preflood_start_period, preflood_end_period = sorted([_start, _end])\n",
    "preflood_duration = preflood_end_period - preflood_start_period\n",
    "print(f\"[INFO] Pre-flood search period: \\n\\t{preflood_start_period} to \\n\\t{preflood_end_period}\")\n",
    "print(f\"[INFO] Pre-flood duration = {preflood_duration}\\n\")\n",
    "margin = flood_start_period - preflood_end_period\n",
    "print(f\"[INFO] Margin before flood = {margin}\\n\")"
   ]
  },
  {
   "cell_type": "markdown",
   "id": "ff2436f2",
   "metadata": {},
   "source": [
    "## Load the gridded AOIs to be mapped\n",
    "\n",
    "Here we load the gridded AoIs from the GCP bucket. We created this file in the previous notebook."
   ]
  },
  {
   "cell_type": "code",
   "execution_count": null,
   "id": "ef185b04",
   "metadata": {},
   "outputs": [],
   "source": [
    "# Gridded AoI filename\n",
    "grid_aoi_file = \"patches_to_map.geojson\"\n",
    "\n",
    "# Form the session path and output path on the GCP bucket\n",
    "session_path = os.path.join(bucket_name, \"0_DEV/1_Staging/operational\", session_name).replace(\"\\\\\", \"/\")\n",
    "grid_aoi_path = os.path.join(session_path, grid_aoi_file).replace(\"\\\\\", \"/\")\n",
    "grid_aois = utils.read_geojson_from_gcp(grid_aoi_path)\n",
    "grid_aois.drop_duplicates(inplace=True)\n",
    "print(f\"[INFO] Loaded gridded_aois from the following file:\\n\\t{grid_aoi_path}\")\n",
    "grid_aois"
   ]
  },
  {
   "cell_type": "code",
   "execution_count": null,
   "id": "3797f827-b517-402c-a48c-090ae85bfe72",
   "metadata": {
    "tags": []
   },
   "outputs": [],
   "source": [
    "# Merge the grid patches to form an outline (MultiPolygon)\n",
    "aoi_outline_df = grid_aois.geometry.unary_union\n",
    "aoi_outline_gdf = gpd.GeoDataFrame(geometry=[aoi_outline_df], crs=\"EPSG:4326\")\n",
    "\n",
    "# Plot the grid and outline on a Leaflet map\n",
    "m = grid_aois.explore(style_kwds={\"fillOpacity\": 0.3, \"weight\": 0.0}, name=\"Grid Patches\")\n",
    "aoi_outline_gdf.explore(m=m, color=\"red\", style_kwds={\"fillOpacity\": 0.0, \"weight\": 2.0}, \n",
    "                        name=\"AoI Outline\", highlight=False)\n",
    "folium.LayerControl(collapsed=False).add_to(m)\n",
    "m"
   ]
  },
  {
   "cell_type": "code",
   "execution_count": null,
   "id": "b3492168-d98d-461a-bdc1-6e02807c51ec",
   "metadata": {},
   "outputs": [],
   "source": [
    "# Check if any grid patches are duplicates\n",
    "are_duplicates = grid_aois.duplicated().any()\n",
    "print(f\"Are any grid names duplicates? -> {are_duplicates}\")"
   ]
  },
  {
   "cell_type": "code",
   "execution_count": null,
   "id": "2f342705",
   "metadata": {},
   "outputs": [],
   "source": [
    "# Drop any duplicates now\n",
    "grid_aois.drop_duplicates(inplace=True)\n",
    "grid_aois.duplicated().any()"
   ]
  },
  {
   "cell_type": "code",
   "execution_count": null,
   "id": "26f49f5f-3ee7-40d2-9f0a-72a0b07da98b",
   "metadata": {},
   "outputs": [],
   "source": [
    "# Authenticate with Google Earth Engine\n",
    "# Follow instructions on login prompt, if required.\n",
    "ee.Authenticate()"
   ]
  },
  {
   "cell_type": "code",
   "execution_count": null,
   "id": "54226a44",
   "metadata": {},
   "outputs": [],
   "source": [
    "# Initialise the Google Earth Engine connection.\n",
    "# Follow instructions on login prompt, if required.\n",
    "ee.Initialize()"
   ]
  },
  {
   "cell_type": "markdown",
   "id": "91e30343-ae97-40c3-be24-0eaab44ce69a",
   "metadata": {},
   "source": [
    "## Query what images are available in Google Earth Engine"
   ]
  },
  {
   "cell_type": "code",
   "execution_count": null,
   "id": "704f98a8-01ec-4c7c-8a8b-776b03f5308a",
   "metadata": {
    "tags": []
   },
   "outputs": [],
   "source": [
    "%%time\n",
    "\n",
    "# Run a GEE query for Landsat and Sentinel-2 data.\n",
    "#  producttype can be 'both', 'S2', \"Landsat\", \"L8\" or \"L9\".\n",
    "#  add_s2cloudless adds a column that indicates if the s2cloudless image is available .\n",
    "flood_images_gee, flood_collection = ee_query.query(\n",
    "    area=aoi_outline_df, \n",
    "    date_start=flood_start_period, \n",
    "    date_end=flood_end_period,                                                   \n",
    "    producttype=\"both\", \n",
    "    return_collection=True, \n",
    "    add_s2cloudless=True)\n",
    "\n",
    "# Print data about the available images\n",
    "num_images = flood_images_gee.shape[0]\n",
    "print(f\"[INFO] Found {num_images} flooding images on archive.\")"
   ]
  },
  {
   "cell_type": "markdown",
   "id": "089bdee0",
   "metadata": {},
   "source": [
    "Show selected columns from the table for context."
   ]
  },
  {
   "cell_type": "code",
   "execution_count": null,
   "id": "ecd22220",
   "metadata": {},
   "outputs": [],
   "source": [
    "# Print selected columns from the table\n",
    "flood_images_gee[[\"overlappercentage\", \n",
    "                  \"cloudcoverpercentage\", \n",
    "                  \"utcdatetime\",                    \n",
    "                  \"localdatetime\",\n",
    "                  \"solardatetime\",\n",
    "                  \"solarday\",\n",
    "                  \"satellite\"]]"
   ]
  },
  {
   "cell_type": "code",
   "execution_count": null,
   "id": "d87c7b80",
   "metadata": {},
   "outputs": [],
   "source": [
    "# Run the same query for the reference period\n",
    "preflood_images_gee, preflood_collection = ee_query.query(\n",
    "    area=aoi_outline_df, \n",
    "    date_start=preflood_start_period, \n",
    "    date_end=preflood_end_period,                                                   \n",
    "    producttype=\"both\", \n",
    "    return_collection=True, \n",
    "    add_s2cloudless=True)\n",
    "num_images = preflood_images_gee.shape[0]\n",
    "print(f\"[INFO] Found {num_images} pre-flood images on archive.\")"
   ]
  },
  {
   "cell_type": "markdown",
   "id": "ab75ef41",
   "metadata": {},
   "source": [
    "Show selected columns from the table for context."
   ]
  },
  {
   "cell_type": "code",
   "execution_count": null,
   "id": "15e17e4b",
   "metadata": {},
   "outputs": [],
   "source": [
    "# Print selected columns from the table\n",
    "preflood_images_gee[[\"overlappercentage\", \n",
    "                     \"cloudcoverpercentage\", \n",
    "                     \"utcdatetime\",                    \n",
    "                     \"localdatetime\",\n",
    "                     \"solardatetime\",\n",
    "                     \"solarday\",\n",
    "                     \"satellite\"]]"
   ]
  },
  {
   "cell_type": "markdown",
   "id": "99bf017a",
   "metadata": {},
   "source": [
    "## Visualise the available Landsat and S2 tile footprints\n",
    "\n",
    "Here we can visualise the footprints of the Sentinel-2 and Landsat tiles within each overpass of the satellite. Turn on individual footprint annotations by toggling the checkboxes on the legend of the map."
   ]
  },
  {
   "cell_type": "code",
   "execution_count": null,
   "id": "56187c39-01bf-4493-8a1c-c8581285891d",
   "metadata": {},
   "outputs": [],
   "source": [
    "# Format the date, columns to show and colours\n",
    "flood_images_gee[\"localdatetime_str\"] = flood_images_gee[\"localdatetime\"].dt.strftime(\"%Y-%m-%d %H:%M:%S\")\n",
    "preflood_images_gee[\"localdatetime_str\"] = preflood_images_gee[\"localdatetime\"].dt.strftime(\"%Y-%m-%d %H:%M:%S\")\n",
    "showcolumns = [\"geometry\",\"overlappercentage\",\"cloudcoverpercentage\", \"localdatetime_str\",\"solarday\",\"satellite\"]\n",
    "colors = [\"#ff7777\", \"#fffa69\", \"#8fff84\", \"#52adf1\", \"#ff6ac2\",\"#1b6d52\", \"#fce5cd\",\"#705334\"]\n",
    "\n",
    "# Plot the AoI outline\n",
    "m = aoi_outline_gdf.explore(style_kwds={\"fillOpacity\": 0.1}, color=\"black\", name=\"AoI Outline\", highlight=False)\n",
    "\n",
    "# Add the pre-flood data\n",
    "for i, ((day,satellite), images_day) in enumerate(preflood_images_gee.groupby([\"solarday\",\"satellite\"])):\n",
    "    m = images_day[showcolumns].explore(\n",
    "        m=m, \n",
    "        name=f\"{satellite}: {day}\", \n",
    "        color=colors[i % len(colors)], \n",
    "        show=False)\n",
    "    \n",
    "# Add the flooding data\n",
    "for i, ((day,satellite), images_day) in enumerate(flood_images_gee.groupby([\"solarday\",\"satellite\"])):\n",
    "    m = images_day[showcolumns].explore(\n",
    "        m=m, \n",
    "        name=f\"{satellite}: {day}\", \n",
    "        color=colors[i % len(colors)], \n",
    "        show=False)\n",
    "    \n",
    "# Add the layer control and show\n",
    "folium.LayerControl(collapsed=False).add_to(m)\n",
    "m"
   ]
  },
  {
   "cell_type": "markdown",
   "id": "fff2b6c9-0210-4e7a-ae42-a00063e91393",
   "metadata": {},
   "source": [
    "## Visualise the available Landsat and S2 imagery\n",
    "\n",
    "We can also directly visualise the imagery for each satellite overpass. This will help make a selection on which days to include in the flood mapping operation.\n",
    "\n",
    "Once the map loads, click on individual Satellite + Date combinations to show the imagery. \n",
    "\n",
    "**Note: the map and imagery can take a few seconds to load.**"
   ]
  },
  {
   "cell_type": "code",
   "execution_count": null,
   "id": "6fa231b1-bc16-4f9b-9eef-91ccbf52f89a",
   "metadata": {},
   "outputs": [],
   "source": [
    "%%time\n",
    "# Intialise the OpenStreetMap base layer\n",
    "m = geemap.Map(location=aoi_outline_df.centroid.coords[0][-1::-1], zoom_start=8)\n",
    "\n",
    "# Add the pre-flood data\n",
    "for (day, satellite), images_day in preflood_images_gee.groupby([\"solarday\", \"satellite\"]):    \n",
    "    image_col_day_sat = preflood_collection.filter(ee.Filter.inList(\"title\", images_day.index.tolist()))    \n",
    "    bands = [\"B11\",\"B8\",\"B4\"] if satellite.startswith(\"S2\") else [\"B6\",\"B5\",\"B4\"]\n",
    "    m.addLayer(image_col_day_sat, \n",
    "               {\"min\":0, \"max\":3000 if satellite.startswith(\"S2\") else 0.3, \"bands\": bands},\n",
    "               f\"{satellite}: {day}\",\n",
    "               False)\n",
    "    \n",
    "# Add the flooding data\n",
    "for (day, satellite), images_day in flood_images_gee.groupby([\"solarday\", \"satellite\"]):    \n",
    "    image_col_day_sat = flood_collection.filter(ee.Filter.inList(\"title\", images_day.index.tolist()))    \n",
    "    bands = [\"B11\",\"B8\",\"B4\"] if satellite.startswith(\"S2\") else [\"B6\",\"B5\",\"B4\"]\n",
    "    m.addLayer(image_col_day_sat, \n",
    "               {\"min\":0, \"max\":3000 if satellite.startswith(\"S2\") else 0.3, \"bands\": bands},\n",
    "               f\"{satellite}: {day}\",\n",
    "               False)\n",
    "\n",
    "aoi_outline_gdf.explore(style_kwds={\"fillOpacity\": 0.0}, color=\"black\", name=\"AoI\", m=m, highlight=False)\n",
    "folium.LayerControl(collapsed=False).add_to(m)\n",
    "m"
   ]
  },
  {
   "cell_type": "markdown",
   "id": "7a33f3d9",
   "metadata": {},
   "source": [
    "For EMSR586 we can see that the imagery 'S2B: 2022-06-23' and 'S2A: 2022-06-25' has low cloud cover and provides a great view of the AoI before the flood event.\n",
    "\n",
    "The imagery 'S2A: 2022-07-08' provides a clear view of the land immediately after flooding."
   ]
  },
  {
   "cell_type": "markdown",
   "id": "e415a8fb-205a-454d-95b4-b88111c9009d",
   "metadata": {},
   "source": [
    "## Query and visualise S1 imagery\n",
    "\n",
    "We have also implemented the querying and visualisation of Sentinel-1 SAR imagery. In the following cell we query images"
   ]
  },
  {
   "cell_type": "code",
   "execution_count": null,
   "id": "c0be9ced-6a96-4dde-8eb6-95b2f5f5a9c8",
   "metadata": {},
   "outputs": [],
   "source": [
    "flood_images_s1_gee, flood_collection_s1 = ee_query.query_s1(\n",
    "    area=aoi_outline_df, \n",
    "    date_start=flood_start_period, \n",
    "    date_end=flood_end_period,    \n",
    "    return_collection=True)\n",
    "\n",
    "num_images = flood_images_s1_gee.shape[0]\n",
    "print(f\"[INFO] Found {num_images} flooding images on archive.\")\n",
    "\n",
    "reference_images_s1, reference_collection_s1 = ee_query.query_s1(\n",
    "    area=aoi_outline_df, \n",
    "    date_start=preflood_start_period, \n",
    "    date_end=preflood_end_period,                                                   \n",
    "    return_collection=True)\n",
    "\n",
    "num_images = reference_images_s1.shape[0]\n",
    "print(f\"[INFO] Found {num_images} pre-flood images on S1 archive.\")"
   ]
  },
  {
   "cell_type": "code",
   "execution_count": null,
   "id": "a210bd38-acce-4c2c-810c-76be3064f432",
   "metadata": {},
   "outputs": [],
   "source": [
    "%%time\n",
    "\n",
    "# Add VV-VH band\n",
    "reference_collection_s1 = reference_collection_s1.map(\n",
    "    lambda x: x.addBands(x.expression('c.VV - c.VH', {'c': x}).rename('VV-VH')))\n",
    "flood_collection_s1 = flood_collection_s1.map(\n",
    "    lambda x: x.addBands(x.expression('c.VV - c.VH', {'c': x}).rename('VV-VH')))\n",
    "\n",
    "# Intialise the OpenStreetMap base layer\n",
    "m = geemap.Map(location=aoi_outline_df.centroid.coords[0][-1::-1], zoom_start=8)\n",
    "\n",
    "# Plot the AoI outline\n",
    "aoi_outline_gdf.explore(style_kwds={\"fillOpacity\": 0.0}, color=\"black\", name=\"AoI\", m=m, highlight=False)\n",
    "\n",
    "# Plot reference (pre-flood) data\n",
    "for (day, satellite,orbit), images_day in reference_images_s1.groupby(\n",
    "    [\"solarday\", \"satellite\",\"orbitProperties_pass\"]): \n",
    "    image_col_day_sat = reference_collection_s1.filter(\n",
    "        ee.Filter.inList(\"system:index\", images_day.index.tolist()))\n",
    "    \n",
    "    m.addLayer(image_col_day_sat, \n",
    "               {\"bands\": ['VV','VH','VV-VH'], \"min\": -30.0,\"max\": 10},\n",
    "               f\"{satellite} ({orbit}): {day}\",\n",
    "               False)\n",
    "\n",
    "# Plot post-flood data\n",
    "for (day, satellite,orbit), images_day in flood_images_s1_gee.groupby(\n",
    "    [\"solarday\", \"satellite\",\"orbitProperties_pass\"]): \n",
    "    image_col_day_sat = flood_collection_s1.filter(\n",
    "        ee.Filter.inList(\"system:index\", images_day.index.tolist()))\n",
    "    m.addLayer(image_col_day_sat, \n",
    "               {\"bands\": ['VV','VH','VV-VH'], \"min\": -30.0,\"max\": 10},\n",
    "               f\"{satellite} ({orbit}): {day}\",\n",
    "               False)\n",
    "\n",
    "folium.LayerControl(collapsed=False).add_to(m)\n",
    "m"
   ]
  },
  {
   "cell_type": "markdown",
   "id": "694199bb-903b-429c-8b9f-8cf5dc078c2d",
   "metadata": {},
   "source": [
    "Comparing the image of S1 of 24th June with the image of the 8th of July shows the affected area very well."
   ]
  },
  {
   "cell_type": "code",
   "execution_count": null,
   "id": "03e353f2-3a67-4873-9a58-9f4c2fc20893",
   "metadata": {},
   "outputs": [],
   "source": []
  }
 ],
 "metadata": {
  "kernelspec": {
   "display_name": "Python (floodmapper)",
   "language": "python",
   "name": "floodmapper"
  },
  "language_info": {
   "codemirror_mode": {
    "name": "ipython",
    "version": 3
   },
   "file_extension": ".py",
   "mimetype": "text/x-python",
   "name": "python",
   "nbconvert_exporter": "python",
   "pygments_lexer": "ipython3",
   "version": "3.9.19"
  }
 },
 "nbformat": 4,
 "nbformat_minor": 5
}
