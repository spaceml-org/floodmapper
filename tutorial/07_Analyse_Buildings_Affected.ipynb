{
 "cells": [
  {
   "cell_type": "markdown",
   "metadata": {},
   "source": [
    "# Identify affected buildings\n",
    "\n",
    "In this notebook we show how to identify the affected buildings in a floodmap. We will use GeoScape buildings in ESRI ShapeFile provided by NEMA which are available [here](https://drive.google.com/drive/folders/1NH5Pu71jBxmchTKSeYyj7VF26WXLvowN?usp=share_link) (access restricted to NEMA peronell). Download the shapefiles to a local folder (e.g., [../resources/buildings](../resources/buildings) or [../flood-activations](../flood-activations)) and unzip the files.\n",
    "\n",
    "For the purpose of this demonstration we will use the floodmap over Lismore aggregated between the 27th of March to the 15th April of 2022."
   ]
  },
  {
   "cell_type": "code",
   "execution_count": null,
   "metadata": {},
   "outputs": [],
   "source": [
    "# Necessary imports\n",
    "import os\n",
    "os.environ['USE_PYGEOS'] = '0'\n",
    "import matplotlib.colors\n",
    "import geopandas as gpd\n",
    "from dotenv import load_dotenv\n",
    "from ml4floods.data import utils\n",
    "import folium\n",
    "\n",
    "# Uncomment this to suppress deprecation warnings\n",
    "import warnings\n",
    "warnings.filterwarnings(\"ignore\", category=DeprecationWarning) \n",
    "from shapely.errors import ShapelyDeprecationWarning\n",
    "warnings.filterwarnings(\"ignore\", category=ShapelyDeprecationWarning) "
   ]
  },
  {
   "cell_type": "markdown",
   "metadata": {},
   "source": [
    "## Load environment and project details\n",
    "\n",
    "The notebook reads the location of the GCP access key file and project name from a hidden ```.env``` file in the root directory. See [SETUP]() file for instructions on creating these."
   ]
  },
  {
   "cell_type": "code",
   "execution_count": null,
   "metadata": {},
   "outputs": [],
   "source": [
    "# Load environment variables (including path to credentials) from '.env' file\n",
    "env_file_path = \"../.env\"\n",
    "\n",
    "# Uncomment for alternative version for Windows (r\"\" indicates raw string)\n",
    "#env_file_path = r\"C:/Users/User/floodmapper/.env\"\n",
    "\n",
    "assert load_dotenv(dotenv_path=env_file_path) == True, \"[ERR] Failed to load environment!\"\n",
    "assert \"GOOGLE_APPLICATION_CREDENTIALS\" in os.environ, \"[ERR] Missing $GOOGLE_APPLICATION_CREDENTIAL!\"\n",
    "assert \"GS_USER_PROJECT\" in os.environ, \"[ERR] Missing $GS_USER_PROJECT!\"\n",
    "key_file_path = os.environ[\"GOOGLE_APPLICATION_CREDENTIALS\"]\n",
    "assert os.path.exists(key_file_path), f\"[ERR] Google credential key file does not exist: \\n{key_file_path} \"\n",
    "assert \"ML4FLOODS_BASE_DIR\" in os.environ, \"[ERR] Missing $ML4FLOODS_BASE_DIR!\"\n",
    "base_path = os.environ[\"ML4FLOODS_BASE_DIR\"]\n",
    "assert os.path.exists(base_path), f\"[ERR] Base path does not exist: \\n{base_path} \"\n",
    "bucket_name = os.environ[\"BUCKET_URI\"]\n",
    "assert bucket_name is not None and bucket_name != \"\", f\"Bucket name not defined {bucket_name}\"\n",
    "\n",
    "print(\"[INFO] Successfully loaded FloodMapper environment.\")"
   ]
  },
  {
   "cell_type": "markdown",
   "metadata": {},
   "source": [
    "## Load and plot the FloodMapper-generated floodmap\n",
    "\n",
    "Here we can load and plot a floodmap from the GCP bucket, or an example from the local disk."
   ]
  },
  {
   "cell_type": "code",
   "execution_count": null,
   "metadata": {},
   "outputs": [],
   "source": [
    "# Path to the floodmap to be analysed\n",
    "floodmap_local_path = \"../resources/floodmap_example.geojson\"\n",
    "\n",
    "# Read the floodmap and separate area-imaged polygon\n",
    "#floodmap = utils.read_geojson_from_gcp(floodmap_path) # If loading a floodmap from GCP\n",
    "floodmap = gpd.read_file(floodmap_local_path)\n",
    "area_imaged = floodmap[floodmap[\"class\"] == \"area_imaged\"].copy()\n",
    "floodmap = floodmap[floodmap[\"class\"] != \"area_imaged\"].copy()\n",
    "\n",
    "# Set colors of polygon classes\n",
    "COLORS = {\n",
    "    'cloud': \"gray\",\n",
    "    'flood_trace': \"turquoise\",\n",
    "    'water': \"blue\"\n",
    "}\n",
    "categories = floodmap[\"class\"].unique()\n",
    "print(\"[INFO] Categories in file: \", categories)\n",
    "cmap = matplotlib.colors.ListedColormap([COLORS[b] for b in categories])\n",
    "\n",
    "# Plot the floodmap bounded by the AoI\n",
    "m = floodmap.explore(column=\"class\", cmap=cmap,categories=categories)\n",
    "m = area_imaged.explore(m=m,color=\"red\",style_kwds={\"fill\":False})"
   ]
  },
  {
   "cell_type": "code",
   "execution_count": null,
   "metadata": {},
   "outputs": [],
   "source": [
    "m"
   ]
  },
  {
   "cell_type": "markdown",
   "metadata": {},
   "source": [
    "## Load the Geoscape building footprints \n",
    "\n",
    "The GeoScape building footprints are saved in the 'EPSG:7844' coordinate reference system (CRS), so we to convert the floodmap to this CRS before comparing. For convenience, we also subset the floodmap `GeoDataFrame` object to keep only the `water` and `flood_trace` polygons."
   ]
  },
  {
   "cell_type": "code",
   "execution_count": null,
   "metadata": {},
   "outputs": [],
   "source": [
    "# Convert floodmap and area imaged polygons to matching CRS\n",
    "floodmap_crs7844 = floodmap.to_crs(\"EPSG:7844\")\n",
    "area_imaged_crs7844 = area_imaged.to_crs(\"EPSG:7844\")\n",
    "\n",
    "# Filter the floodmap for 'water' and 'flood_trace' polygons (drop clouds, if present)\n",
    "floodmap_crs7844_innundated = floodmap_crs7844[floodmap_crs7844[\"class\"].isin([\"water\",\"flood_trace\"])]"
   ]
  },
  {
   "cell_type": "markdown",
   "metadata": {},
   "source": [
    "In the next cell we read the GeoScape buildings over the area of interest. For this we use the `read_file` function of `geopandas` and specify a bounding box (`bbox` argument) to read. This makes the reading of the buildings much faster, as we only load the buildings in this bounding box instead of all buildings in the file."
   ]
  },
  {
   "cell_type": "code",
   "execution_count": null,
   "metadata": {},
   "outputs": [],
   "source": [
    "%%time\n",
    "\n",
    "# Set the path to the buildings file\n",
    "buildings_path = \"../resources/buildings/Buildings/Buildings JUNE 2022/Standard/nsw_buildings.shp\"\n",
    "\n",
    "# Load the building polygons for the mapped area only\n",
    "bounding_box = tuple(area_imaged_crs7844.iloc[0].geometry.bounds)\n",
    "buildings_in_flood_area = gpd.read_file(buildings_path, bbox=bounding_box)\n",
    "buildings_in_flood_area.head()"
   ]
  },
  {
   "cell_type": "markdown",
   "metadata": {},
   "source": [
    "## Compute and display the affected buildings\n",
    "\n",
    "In the next cell we intersect the buildings and the floodmap. We add a column in the buildings dataframe that indicates if the building intersect the floodmap (i.e., if it has been affected by the flooding). The operation may take a few seconds to perform on larger maps."
   ]
  },
  {
   "cell_type": "code",
   "execution_count": null,
   "metadata": {},
   "outputs": [],
   "source": [
    "%%time\n",
    "\n",
    "# Add column whether the building has been affected by the flood\n",
    "buildings_in_flood_area[\"affected\"] = buildings_in_flood_area.geometry.apply(\n",
    "    lambda x: \"yes\" if floodmap_crs7844_innundated.intersects(x).any() else \"no\")"
   ]
  },
  {
   "cell_type": "markdown",
   "metadata": {},
   "source": [
    "In the next cell we overlay the buildings and flood-extent map, colour-coding the affected buildings in red and the non-affected buildings in gray."
   ]
  },
  {
   "cell_type": "code",
   "execution_count": null,
   "metadata": {},
   "outputs": [],
   "source": [
    "categories_buildings = [\"yes\",\"no\"]\n",
    "cmap_buildings = matplotlib.colors.ListedColormap([\"#DD0000\",\"#888888\"])\n",
    "\n",
    "# First plot the floodmap\n",
    "m = floodmap.explore(column=\"class\", cmap=cmap, categories=categories, \n",
    "                     style_kwds={\"fillOpacity\":0.25}, legend=False, name=\"Floodmap\")\n",
    "\n",
    "# Then plot the affected buildings\n",
    "m = buildings_in_flood_area[[\"geometry\",\"affected\",\"CAPT_DATE\",\"AREA\",\"GRD_ELEV\"]].explore(\n",
    "    column=\"affected\", cmap=cmap_buildings, categories=categories_buildings,\n",
    "    style_kwds={\"fillOpacity\":0.25}, legend=False, name=\"Buildings\", m=m)\n",
    "\n",
    "# Then overlay the floodmap and AoI bounds\n",
    "m = area_imaged.explore(m=m, color=\"red\", style_kwds={\"fill\": False}, name=\"AoI\")\n",
    "\n",
    "# Add the layer control and show\n",
    "folium.LayerControl(collapsed=False).add_to(m)\n",
    "m"
   ]
  },
  {
   "cell_type": "markdown",
   "metadata": {},
   "source": [
    "## Statistics of affected buildings"
   ]
  },
  {
   "cell_type": "code",
   "execution_count": null,
   "metadata": {},
   "outputs": [],
   "source": [
    "buildings_in_flood_area_affected = buildings_in_flood_area[buildings_in_flood_area.affected == \"yes\"]\n",
    "\n",
    "print(f\"There are {buildings_in_flood_area_affected.shape[0]} affected buildings\")\n",
    "print(f\"Area of the affected buildings: {buildings_in_flood_area_affected.AREA.sum()} m²\")"
   ]
  },
  {
   "cell_type": "code",
   "execution_count": null,
   "metadata": {},
   "outputs": [],
   "source": []
  }
 ],
 "metadata": {
  "kernelspec": {
   "display_name": "Python (floodmapper)",
   "language": "python",
   "name": "floodmapper"
  },
  "language_info": {
   "codemirror_mode": {
    "name": "ipython",
    "version": 3
   },
   "file_extension": ".py",
   "mimetype": "text/x-python",
   "name": "python",
   "nbconvert_exporter": "python",
   "pygments_lexer": "ipython3",
   "version": "3.9.16"
  }
 },
 "nbformat": 4,
 "nbformat_minor": 4
}
